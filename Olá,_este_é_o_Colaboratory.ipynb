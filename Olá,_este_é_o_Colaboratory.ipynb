{
  "cells": [
    {
      "cell_type": "markdown",
      "metadata": {
        "id": "view-in-github",
        "colab_type": "text"
      },
      "source": [
        "<a href=\"https://colab.research.google.com/github/rattesgabriel/desconto.py/blob/main/Ol%C3%A1%2C_este_%C3%A9_o_Colaboratory.ipynb\" target=\"_parent\"><img src=\"https://colab.research.google.com/assets/colab-badge.svg\" alt=\"Open In Colab\"/></a>"
      ]
    },
    {
      "cell_type": "code",
      "source": [
        "import pandas as pd\n",
        "import matplotlib.pyplot as plt\n",
        "import seaborn as sns\n",
        "\n",
        "# Vizualização simples: Histograma da idade\n",
        "plt.figure(figsize=(8, 6))\n",
        "sns.histplot(df1['idade'], bins=5, kde=True, color='skyblue')\n",
        "plt.title('Histograma da idade')\n",
        "plt.xlabel('Idade')\n",
        "plt.ylabel('Frequência')\n",
        "plt.show()\n",
        "\n",
        "# Visualização simples: Gráfico de barras do salário por nome\n",
        "plt.figure(figsize=(8,6))\n",
        "sns.barplot(x='Nome', y='Salário', data=df2, palette='muted')\n",
        "plt.title('Salário por nome')\n",
        "plt.xlabel('Nome')\n",
        "plt.ylabel('Salário')\n",
        "plt.xticks(rotation=45)\n",
        "plt.show()"
      ],
      "metadata": {
        "id": "0utGgtE2mdZT"
      },
      "execution_count": null,
      "outputs": []
    },
    {
      "cell_type": "code",
      "source": [
        "%pip install plotly"
      ],
      "metadata": {
        "id": "1BAGte8cw163"
      },
      "execution_count": null,
      "outputs": []
    },
    {
      "cell_type": "code",
      "source": [
        "import plotly.express as px\n",
        "\n",
        "#Criando o Bubble Chart\n",
        "bubble_chart = px.scatter(\n",
        "    juncao_join,\n",
        "    x='Idade',\n",
        "    y='Salário',\n",
        "    size='Salário',   #Definindo o tamanho dos pontos com base no salário\n",
        "    title='Bubble Chart: Idade vs Salário',\n",
        ")\n",
        "\n",
        "#Adicionando rótulos aos eixos\n",
        "bubble_chart.update_layout(xaxis_tittle='Idade', yaxis_tittle='Salário')\n",
        "\n",
        "# Exibindo o gráfico\n",
        "bubble_chart.show()"
      ],
      "metadata": {
        "id": "ELBrVHz2xAGV"
      },
      "execution_count": null,
      "outputs": []
    }
  ],
  "metadata": {
    "colab": {
      "name": "Olá, este é o Colaboratory",
      "provenance": [],
      "include_colab_link": true
    },
    "kernelspec": {
      "display_name": "Python 3",
      "name": "python3"
    }
  },
  "nbformat": 4,
  "nbformat_minor": 0
}